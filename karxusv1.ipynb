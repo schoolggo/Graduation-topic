{
 "cells": [
  {
   "cell_type": "code",
   "execution_count": 1,
   "metadata": {},
   "outputs": [],
   "source": [
    "import pandas as pd\n",
    "import numpy as np\n",
    "import matplotlib.pyplot as plt \n",
    "from pylab import mpl\n",
    "from sklearn.decomposition import PCA\n",
    "from sklearn.preprocessing import StandardScaler\n",
    "from xgboost import XGBClassifier\n",
    "from sklearn.model_selection import cross_val_score,train_test_split\n",
    "from sklearn.pipeline import Pipeline\n",
    "import seaborn as sns"
   ]
  },
  {
   "cell_type": "code",
   "execution_count": 2,
   "metadata": {},
   "outputs": [],
   "source": [
    "test3 = pd.read_csv('all_sheets_merge_T1 - all_sheets_merge_0430.csv')"
   ]
  },
  {
   "cell_type": "code",
   "execution_count": 3,
   "metadata": {},
   "outputs": [],
   "source": [
    "test3=test3.fillna(0)"
   ]
  },
  {
   "cell_type": "code",
   "execution_count": 4,
   "metadata": {},
   "outputs": [],
   "source": [
    "from sklearn.decomposition import PCA\n",
    "import re\n",
    "label_df = test3['呼吸器成功脫離']\n",
    "test3['性別'] = test3['性別'].map({'M':0,'F':1})\n",
    "regex = re.compile(r\"\\[|\\]|<\", re.IGNORECASE)\n",
    "X = test3.drop(['呼吸器成功脫離'], axis=1)\n",
    "pca = PCA(n_components = 5)\n",
    "pca_vectors = pca.fit_transform(X)\n",
    "y = test3['呼吸器成功脫離']\n"
   ]
  },
  {
   "cell_type": "code",
   "execution_count": null,
   "metadata": {},
   "outputs": [],
   "source": [
    "test3"
   ]
  },
  {
   "cell_type": "code",
   "execution_count": null,
   "metadata": {},
   "outputs": [],
   "source": [
    "from sklearn.decomposition import PCA\n",
    "from sklearn.preprocessing import StandardScaler\n",
    "scaler = StandardScaler()\n",
    "scaled_df = scaler.fit_transform(X)\n",
    "pca = PCA(n_components = 5)\n",
    "pca_vectors = pca.fit_transform(scaled_df)\n",
    "for index, var in enumerate(pca.explained_variance_ratio_): print(\"Explained Variance ratio by Principal Component \", (index+1), \" : \", var)\n"
   ]
  },
  {
   "cell_type": "code",
   "execution_count": null,
   "metadata": {},
   "outputs": [],
   "source": [
    "plt.figure(figsize=(25,8)) \n",
    "sns.scatterplot(x=pca_vectors[:, 0], \n",
    "                y=pca_vectors[:, 1], hue=label_df) \n",
    "plt.title('Principal Components vs Class distribution', fontsize=16) \n",
    "plt.ylabel('Principal Component 2', fontsize=16) \n",
    "plt.xlabel('Principal Component 1', fontsize=16) \n",
    "plt.xticks(rotation='vertical')"
   ]
  },
  {
   "cell_type": "code",
   "execution_count": 12,
   "metadata": {},
   "outputs": [
    {
     "data": {
      "text/plain": [
       "array([[-2.02387496e+04, -1.74335212e+04,  7.63234293e+03,\n",
       "         1.54767385e+03,  2.34211015e+03],\n",
       "       [ 1.24766806e+04, -1.18511859e+04,  5.42037208e+03,\n",
       "         6.32300577e+03, -8.71353446e+03],\n",
       "       [-2.02346576e+04, -9.48539334e+03,  1.12245462e+03,\n",
       "         6.14179239e+03,  8.91246303e+03],\n",
       "       [ 2.42413298e+04, -1.39162334e+04, -8.91472574e+03,\n",
       "        -1.09629910e+04,  5.35939975e+03],\n",
       "       [ 3.79459274e+03,  7.64933038e+03, -6.18270624e+03,\n",
       "        -8.18848627e+03,  5.84481565e+03],\n",
       "       [-1.72481652e+04, -1.60282052e+04,  1.36795690e+04,\n",
       "         2.57561988e+03,  1.63799461e+03],\n",
       "       [-1.03614090e+04, -1.09120106e+04,  1.29791525e+04,\n",
       "        -1.46044306e+04, -1.64967353e+03],\n",
       "       [-1.24322144e+04, -6.99734571e+03,  7.08137747e+03,\n",
       "        -1.19697105e+04, -5.30435346e+03],\n",
       "       [ 1.52830294e+04, -8.42938332e+03, -8.32563241e+03,\n",
       "        -8.58549659e+03,  3.21816512e+03],\n",
       "       [-8.84232060e+03,  7.60617467e+03,  1.79833270e+03,\n",
       "         4.72871951e+03,  4.00790064e+03],\n",
       "       [-1.60415384e+04,  5.04104211e+03, -4.51339424e+03,\n",
       "        -8.15803190e+03,  1.95870434e+03],\n",
       "       [ 4.36962414e+04,  3.22347800e+04,  8.71400415e+03,\n",
       "        -2.47917562e+04, -5.48290507e+03],\n",
       "       [ 1.59635964e+04, -6.23372872e+03,  5.62238427e+03,\n",
       "         2.31276088e+03, -5.97991407e+03],\n",
       "       [-1.22236812e+04, -5.79630850e+03,  5.64614496e+03,\n",
       "        -6.38495353e+02,  3.90899058e+03],\n",
       "       [-2.06694831e+04, -1.19293460e+04, -3.33837821e+03,\n",
       "        -6.94452376e+03,  4.22487145e+03],\n",
       "       [-9.31206718e+03,  3.46925029e+04, -1.42996055e+04,\n",
       "         1.80982231e+04,  1.23731004e+04],\n",
       "       [ 1.83775824e+04, -2.27211666e+04, -5.93393043e+02,\n",
       "         1.06351333e+04, -6.02861196e+03],\n",
       "       [-1.44880397e+04,  7.38803838e+03,  7.13776344e+03,\n",
       "        -4.84391360e+03,  8.86300572e+02],\n",
       "       [-1.67471418e+04,  1.39091517e+04, -1.16492668e+04,\n",
       "         3.41245941e+03, -1.24415180e+03],\n",
       "       [-1.57062639e+04, -1.47989617e+04, -4.53545631e+03,\n",
       "         1.95444814e+03, -4.71152141e+03],\n",
       "       [ 1.95365031e+04, -8.45512632e+03,  3.16452968e+03,\n",
       "        -5.10213710e+03,  5.04983631e+03],\n",
       "       [-1.88255968e+04, -2.42618250e+03, -9.28628712e+03,\n",
       "        -1.05180783e+03,  4.50917222e+03],\n",
       "       [ 2.73357581e+04, -7.12835209e+03, -1.00691824e+04,\n",
       "        -8.80156526e+03,  3.85532843e+03],\n",
       "       [-2.46059694e+04, -1.84522192e+04, -1.05991384e+03,\n",
       "        -2.89926633e+02, -8.37021954e+02],\n",
       "       [ 3.34300243e+03, -2.27156212e+04, -1.46780882e+04,\n",
       "        -1.01611275e+04,  2.94408957e+03],\n",
       "       [-2.36144909e+03,  8.32415392e+04, -3.01132085e+04,\n",
       "         4.81957094e+03, -2.77114962e+04],\n",
       "       [ 1.49145907e+04,  9.44570076e+03,  8.19498331e+03,\n",
       "         6.76049388e+03, -5.44110720e+02],\n",
       "       [ 6.31798907e+03, -1.27068083e+04, -1.49917771e+03,\n",
       "        -5.95776980e+03,  3.55880601e+02],\n",
       "       [ 2.24687124e+04, -8.43378839e+03, -9.30521572e+03,\n",
       "        -3.15861683e+03,  1.33029318e+04],\n",
       "       [-1.94094787e+04, -1.96972493e+04,  8.61180042e+02,\n",
       "         5.01042431e+03,  9.61186085e+02],\n",
       "       [ 1.81341230e+04, -1.02876601e+04,  1.04780176e+04,\n",
       "         1.05366872e+04, -8.47095063e+03],\n",
       "       [ 2.43204817e+04,  3.12353120e+03,  2.82126545e+03,\n",
       "         7.78265502e+03, -1.69786666e+03],\n",
       "       [-1.06277141e+04,  3.52719900e+04,  4.72738527e+03,\n",
       "        -1.36183588e+04, -1.20784513e+04],\n",
       "       [ 1.50756774e+04, -1.63348746e+04, -2.41270782e+03,\n",
       "        -1.88543212e+03, -5.18301020e+03],\n",
       "       [-1.07654546e+04, -5.47949915e+02, -6.22497736e+02,\n",
       "         7.80679782e+02,  3.26470662e+03],\n",
       "       [ 4.87523166e+04,  5.28011636e+03, -2.09928030e+02,\n",
       "        -9.78833717e+03,  7.30064472e+03],\n",
       "       [ 1.23821089e+04, -4.25073778e+03, -1.16378644e+03,\n",
       "        -1.38825374e+02, -5.65394945e+03],\n",
       "       [-2.83151963e+04,  1.29909095e+02, -9.76630754e+03,\n",
       "        -2.46313495e+03,  7.10212557e+02],\n",
       "       [ 1.85461501e+04,  3.28880819e+03, -1.59189776e+04,\n",
       "         3.64857754e+03, -2.38979503e+02],\n",
       "       [ 4.26219401e+03, -3.11657718e+03, -1.73717620e+02,\n",
       "         6.49889446e+03, -8.89746983e+03],\n",
       "       [ 1.40258186e+04,  1.52153055e+04, -1.05946080e+04,\n",
       "         1.35123437e+03, -6.70923699e+03],\n",
       "       [-1.13886343e+04,  1.82844386e+04, -1.22136926e+03,\n",
       "         2.17766111e+03, -4.17871191e+03],\n",
       "       [ 2.86684798e+04, -2.51508696e+04, -4.53349868e+03,\n",
       "        -4.17055080e+03,  5.84294045e+03],\n",
       "       [ 3.41968928e+04, -1.28659357e+04,  2.71245990e+03,\n",
       "        -4.59421643e+02, -2.81174733e+03],\n",
       "       [-1.51552586e+04, -1.58201034e+04,  1.09112050e+03,\n",
       "        -7.29526787e+03, -2.01484490e+03],\n",
       "       [ 6.39729679e+03, -2.36299243e+04,  3.38609434e+03,\n",
       "         8.56509214e+03, -1.30834010e+04],\n",
       "       [-1.96664782e+04,  4.06830668e+03,  8.26270353e+03,\n",
       "        -1.32853805e+04, -3.73429075e+03],\n",
       "       [ 2.59919011e+04, -1.24494873e+04,  1.45004875e+03,\n",
       "         5.31065495e+02,  2.41598312e+03],\n",
       "       [-1.66519782e+04, -1.89597547e+04,  7.08579798e+02,\n",
       "         3.22469570e+03, -5.04246836e+03],\n",
       "       [ 4.50877648e+04,  2.98250865e+04, -1.95777619e+04,\n",
       "         1.47463013e+03,  1.52337271e+04],\n",
       "       [ 1.89145737e+04,  4.08323145e+03, -1.19881869e+04,\n",
       "        -5.47815500e+03,  5.20243704e+03],\n",
       "       [-1.48676379e+04, -2.82372044e+03,  3.39689028e+03,\n",
       "         2.08059692e+03,  5.23788711e+03],\n",
       "       [-1.04024063e+04, -4.10322490e+03,  4.80149710e+02,\n",
       "        -2.24469139e+03, -5.77933289e+02],\n",
       "       [-1.59040520e+04, -7.79164950e+03, -1.27843397e+04,\n",
       "        -2.92295674e+03, -6.18543205e+03],\n",
       "       [ 4.14057049e+04,  9.33214303e+03, -1.83315996e+04,\n",
       "         3.36824433e+03,  4.85821548e+03],\n",
       "       [ 7.75312760e+03,  2.70925191e+03,  6.45267361e+03,\n",
       "         1.61146959e+04,  9.22845441e+01],\n",
       "       [-1.47794351e+04, -8.45322452e+03, -1.23060276e+04,\n",
       "         5.74985093e+02,  2.18716986e+02],\n",
       "       [ 4.16510508e+04,  1.93333371e+04, -9.43827605e+03,\n",
       "        -6.22066491e+03,  1.68956163e+04],\n",
       "       [-1.31763667e+04,  1.64359050e+04,  1.69863700e+03,\n",
       "        -1.70481075e+04, -2.06143012e+04],\n",
       "       [ 8.86108861e+03, -1.57442512e+04,  9.66247065e+03,\n",
       "         1.19005073e+04, -4.43072262e+03],\n",
       "       [-1.39978210e+04, -1.50321065e+04, -3.23825246e+03,\n",
       "         4.30442876e+03, -9.50304176e+03],\n",
       "       [-8.75502982e+03,  1.40698077e+04, -1.52614255e+03,\n",
       "        -9.01651139e+03,  7.35727527e+03],\n",
       "       [-1.39431470e+04,  1.17414013e+04, -8.93046838e+01,\n",
       "         1.68465698e+03,  6.18917102e+03],\n",
       "       [-1.56454295e+04,  2.17205388e+04,  2.39455341e+03,\n",
       "         1.16625105e+04,  2.01800798e+04],\n",
       "       [ 2.83769884e+04, -3.70600522e+03, -7.10507960e+03,\n",
       "        -6.85163155e+03,  2.53850239e+03],\n",
       "       [ 5.04976279e+03, -3.45746214e+04, -1.03779548e+04,\n",
       "        -9.32777131e+03,  9.96473773e+02],\n",
       "       [ 1.11500168e+04, -1.30035089e+04, -2.86515352e+03,\n",
       "        -1.04620695e+04, -3.83349322e+03],\n",
       "       [-1.81907841e+04,  1.01176380e+04, -4.26877771e+03,\n",
       "        -7.89806226e+03, -4.93091976e+03],\n",
       "       [-1.02181665e+04, -1.69881999e+02,  1.04860723e+03,\n",
       "        -1.12352172e+04,  8.82448320e+03],\n",
       "       [ 2.46235466e+04, -1.37796250e+04,  1.20298508e+04,\n",
       "        -1.35837958e+04,  5.10668171e+03],\n",
       "       [-1.35222143e+04, -3.29398515e+03, -1.34330853e+04,\n",
       "        -2.20048833e+03,  6.27380722e+03],\n",
       "       [-1.51448730e+04, -1.29681987e+03,  1.93166650e+03,\n",
       "         5.49982714e+03,  5.43080258e+03],\n",
       "       [-1.12100486e+04,  9.88035171e+03, -1.03928670e+04,\n",
       "         4.37679596e+03,  4.11232776e+03],\n",
       "       [-1.46202421e+04,  4.21275138e+01, -7.82644742e+03,\n",
       "         7.84580249e+03, -4.24270185e+03],\n",
       "       [-1.29389260e+04, -1.72259403e+01, -9.09352631e+02,\n",
       "         1.29555595e+03, -8.35408318e+01],\n",
       "       [-1.06064552e+04,  4.49280570e+03, -1.23337531e+04,\n",
       "         5.05903336e+03,  2.09601245e+03],\n",
       "       [ 2.81782136e+04, -2.31396491e+04,  1.38806147e+03,\n",
       "        -7.24576443e+03,  4.77889940e+03],\n",
       "       [-2.08301184e+04, -1.27561455e+04, -2.45599231e+03,\n",
       "        -7.46195390e+03,  4.62036429e+03],\n",
       "       [-1.09685605e+04, -1.32541339e+03, -7.94763563e+03,\n",
       "         4.87498455e+03, -8.71768100e+03],\n",
       "       [ 2.98748281e+04,  1.77219590e+04, -9.65326509e+03,\n",
       "        -8.03848006e+03, -3.56549772e+03],\n",
       "       [ 1.74704568e+04, -1.13718808e+04,  8.54656733e+03,\n",
       "         2.10165131e+04, -2.29422821e+04],\n",
       "       [ 1.67630894e+04, -1.13746379e+04,  1.06538093e+04,\n",
       "        -1.08825663e+03, -7.68909011e+03],\n",
       "       [ 2.61621859e+04, -1.69634132e+04, -1.92196380e+02,\n",
       "         5.90889353e+03,  3.30577383e+03],\n",
       "       [-2.25413114e+04, -1.13846838e+04, -2.34447224e+03,\n",
       "        -8.93055792e+03, -7.14283964e+03],\n",
       "       [-1.33747452e+04, -1.26792302e+04, -5.59962977e+03,\n",
       "        -1.69904628e+03,  4.46022422e+03],\n",
       "       [-1.30515920e+04, -1.10808732e+04,  7.79704588e+03,\n",
       "         5.25099868e+03,  9.28702397e+03],\n",
       "       [-1.90310992e+04,  4.02155873e+04,  4.92156477e+04,\n",
       "        -9.13709609e+03,  4.64385972e+04],\n",
       "       [ 4.13858285e+04, -1.83524175e+04,  4.93148330e+03,\n",
       "         4.40936236e+03,  6.94845628e+03],\n",
       "       [-1.51025759e+04,  2.55570592e+03, -6.30477921e+03,\n",
       "         3.59777564e+03, -2.08736615e+03],\n",
       "       [ 2.56715813e+04,  5.93997646e+02,  8.64754378e+02,\n",
       "        -1.33616276e+03,  4.15484285e+02],\n",
       "       [ 2.19404362e+04, -9.00006597e+03,  3.40244133e+03,\n",
       "         2.57116491e+03, -3.07402229e+02],\n",
       "       [ 1.11864752e+04,  9.79385097e+03, -9.99393681e+03,\n",
       "         1.93678462e+04, -1.09143786e+04],\n",
       "       [-2.36111912e+04,  1.50032891e+04, -4.58424693e+03,\n",
       "         5.28737023e+03,  4.43868768e+03],\n",
       "       [ 6.51423259e+03, -7.74812593e+03,  4.38027862e+03,\n",
       "         1.14909019e+04, -8.56027480e+03],\n",
       "       [ 2.15217682e+04,  1.79565875e+04, -1.15077630e+04,\n",
       "         1.26440435e+04, -1.15741189e+02],\n",
       "       [ 4.00454424e+04,  2.70243953e+04, -1.16619969e+03,\n",
       "        -1.93873803e+04,  2.77908474e+03],\n",
       "       [-1.68397143e+04, -6.24797695e+03, -7.52585020e+03,\n",
       "         7.12913789e+03, -2.65749775e+03],\n",
       "       [ 3.03474278e+04, -2.01146339e+03,  5.92670497e+03,\n",
       "        -1.10333736e+04,  3.11015277e+03],\n",
       "       [ 1.64914200e+03, -1.52143710e+04,  7.41624946e+03,\n",
       "         4.32570199e+03, -5.07621299e+03],\n",
       "       [ 2.80959110e+04,  5.04734071e+03,  4.58836228e+04,\n",
       "         7.12424648e+03, -8.35397267e+03],\n",
       "       [-8.24920443e+03,  2.44688766e+04, -1.90209166e+04,\n",
       "         2.12211153e+04,  9.48032352e+03],\n",
       "       [-1.10968579e+04, -1.30902396e+03, -4.62373836e+03,\n",
       "         1.10241606e+03, -1.19301943e+03],\n",
       "       [-1.42758043e+04,  1.68932902e+04,  1.65318339e+04,\n",
       "        -4.61948837e+03,  4.45058228e+03],\n",
       "       [ 3.83894365e+04,  1.29710433e+04, -6.53721884e+03,\n",
       "        -1.43961587e+04,  1.16200397e+04],\n",
       "       [-4.74991970e+03,  1.26894037e+04,  1.52327419e+04,\n",
       "        -2.17348807e+03,  3.12151252e+03],\n",
       "       [ 3.24479429e+04, -3.68705616e+03,  3.26844160e+03,\n",
       "        -5.45981550e+03, -3.40227677e+03],\n",
       "       [-2.07467027e+04, -1.82179749e+04, -5.46979527e+03,\n",
       "        -4.81886353e+03, -2.05243721e+03],\n",
       "       [-1.20189062e+04,  1.55510138e+04, -9.00019556e+03,\n",
       "        -6.24952399e+03, -7.04137401e+02],\n",
       "       [-2.94122085e+03,  8.94256895e+04,  3.12186437e+04,\n",
       "        -3.46673775e+04, -3.11924624e+04],\n",
       "       [-4.53328314e+03, -1.72046231e+04,  3.97499352e+02,\n",
       "         1.45630022e+03, -2.15668981e+03],\n",
       "       [ 6.08519485e+03, -3.04896395e+03,  2.11152503e+03,\n",
       "         2.21456614e+03, -8.90911003e+03],\n",
       "       [-6.29039833e+03, -3.12380559e+04,  5.09861199e+02,\n",
       "        -5.58946069e+03, -5.05332796e+03],\n",
       "       [-2.38356789e+04, -9.06265523e+02, -1.76980089e+03,\n",
       "         3.42900562e+03,  7.08724549e+03],\n",
       "       [ 2.13393853e+04,  3.09327119e+04, -6.07455703e+03,\n",
       "         1.54826573e+04, -6.19904203e+03],\n",
       "       [-1.29283909e+04,  9.14882532e+03, -1.23243099e+03,\n",
       "        -6.11221906e+03, -6.65178149e+02],\n",
       "       [-1.83049291e+04, -7.00505485e+03, -2.51754959e+03,\n",
       "         2.99472541e+03, -4.00151995e+03],\n",
       "       [-1.46279154e+04,  2.79379535e+04, -7.47754307e+03,\n",
       "        -7.98057764e+03,  4.63041050e+03],\n",
       "       [-2.20874390e+04, -2.08787469e+04,  5.88657484e+02,\n",
       "        -5.30375444e+03, -3.30513586e+02],\n",
       "       [-1.16985632e+04,  1.04116320e+04,  2.01830338e+04,\n",
       "         9.67860400e+03,  1.16980484e+04],\n",
       "       [-1.49029552e+04,  1.52274596e+04,  1.84182030e+04,\n",
       "         1.04111388e+04,  2.11122406e+04],\n",
       "       [-9.28187553e+03,  1.11993747e+04,  7.62082795e+03,\n",
       "        -5.76977355e+03, -2.51333368e+03],\n",
       "       [-1.04873572e+04, -1.59921531e+04, -9.03285001e+03,\n",
       "        -3.47862102e+03,  3.46967040e+03],\n",
       "       [ 1.74176182e+04, -7.44832021e+03, -6.06392335e+03,\n",
       "         4.08210579e+03, -4.05040053e+03],\n",
       "       [-1.69116669e+04,  1.45054119e+04, -1.46612215e+04,\n",
       "        -3.88573072e+02, -1.71725747e+04],\n",
       "       [-1.16235917e+04, -1.25476205e+04, -2.49851915e+03,\n",
       "        -4.05322967e+03,  3.65274646e+03],\n",
       "       [ 3.94321331e+04, -1.60429030e+03, -1.21752234e+04,\n",
       "         7.99888882e+03,  6.36931395e+03],\n",
       "       [ 4.45094404e+04,  1.30342394e+04, -1.30928463e+03,\n",
       "         2.31506454e+03,  1.16957644e+04],\n",
       "       [ 1.13458368e+04,  1.20739920e+04,  8.93911798e+03,\n",
       "         9.93955255e+03, -4.75209019e+03],\n",
       "       [ 1.89674079e+04, -2.60017949e+03,  2.04346921e+04,\n",
       "         5.79943386e+03, -1.59675854e+04],\n",
       "       [-1.12771001e+04,  1.46805219e+04, -9.08554963e+03,\n",
       "         7.29105031e+03,  2.16792368e+03],\n",
       "       [-1.48467032e+04, -1.85039770e+04,  6.11155627e+03,\n",
       "        -1.23127823e+04,  6.63164188e+02],\n",
       "       [ 9.01253704e+03,  9.24178450e+03, -1.15985226e+04,\n",
       "         4.61978785e+02, -7.96247888e+03],\n",
       "       [-2.32365483e+04, -2.05389769e+04,  4.35267263e+03,\n",
       "        -3.03031231e+03, -6.89162200e+03],\n",
       "       [-1.36237061e+04, -1.16577487e+04, -3.05498328e+01,\n",
       "         1.78512764e+03,  5.58240698e+03],\n",
       "       [-8.83191207e+03,  3.75451445e+04,  1.34278178e+04,\n",
       "         1.06326440e+04,  8.53952880e+03],\n",
       "       [-2.33718848e+04,  1.96530096e+03, -2.46583192e+03,\n",
       "         1.06884792e+04, -5.66689841e+03],\n",
       "       [ 3.00941812e+04,  1.31452882e+03,  1.18237914e+04,\n",
       "        -8.64862881e+03,  5.67178830e+03],\n",
       "       [-1.61017038e+04,  1.61377943e+03,  1.24113600e+04,\n",
       "        -1.04643850e+04,  9.21083909e+03],\n",
       "       [-1.43458390e+04, -1.08457727e+04,  2.18517664e+04,\n",
       "         6.59454871e+03,  9.56046675e+03],\n",
       "       [-1.95915675e+04,  5.29459678e+03, -8.83765137e+03,\n",
       "         2.88519088e+03,  6.82766043e+03],\n",
       "       [-1.61738673e+04, -8.71164087e+03, -7.13840635e+03,\n",
       "        -5.93700522e+03, -1.59782686e+03],\n",
       "       [-1.99796113e+04, -1.70084081e+04, -5.26942949e+03,\n",
       "         2.52931622e+03,  7.78651989e+03],\n",
       "       [-1.57248980e+04,  3.89332199e+03,  6.77051972e+02,\n",
       "        -4.41626892e+03,  1.99327419e+03],\n",
       "       [ 2.06444768e+04, -2.05709237e+04, -2.15973002e+03,\n",
       "        -6.22389255e+03, -9.23405305e+02],\n",
       "       [ 8.49990882e+03, -1.33484040e+04,  3.49260026e+03,\n",
       "         7.70440974e+03, -1.19024055e+04],\n",
       "       [ 1.54281439e+04,  2.09647189e+04,  4.66902930e+04,\n",
       "        -1.32740695e+04, -6.40728449e+03],\n",
       "       [ 2.36308830e+04,  2.77380107e+03, -2.08564272e+03,\n",
       "         3.00535634e+03, -2.49184727e+02],\n",
       "       [-1.68847965e+04,  1.15277096e+04,  9.78093179e+03,\n",
       "        -6.14126366e+03, -2.14878689e+03],\n",
       "       [ 2.91927530e+03, -8.33464663e+03, -7.91620798e+02,\n",
       "         3.60666871e+03, -9.64894315e+03],\n",
       "       [ 1.70483567e+03, -1.23695673e+04,  1.95604202e+03,\n",
       "         1.13044224e+04, -5.76636871e+03],\n",
       "       [-6.80610436e+02,  3.18883105e+04, -6.38592488e+03,\n",
       "         4.04586841e+03, -8.35739673e+03],\n",
       "       [-1.41915356e+04, -1.06999970e+03,  1.68175591e+04,\n",
       "        -6.19884136e+03,  2.43787809e+03],\n",
       "       [-3.27060136e+03, -1.06853119e+04,  8.10474394e+03,\n",
       "         1.02134795e+04, -4.14559973e+03],\n",
       "       [-1.06342811e+04, -2.72935079e+03, -2.29446396e+02,\n",
       "        -1.14803310e+04, -4.16901101e+03]])"
      ]
     },
     "execution_count": 12,
     "metadata": {},
     "output_type": "execute_result"
    }
   ],
   "source": [
    "X_train, X_test, y_train, y_test = train_test_split(pca_vectors, y, test_size=0.3, random_state=33)\n",
    "X_train"
   ]
  },
  {
   "cell_type": "code",
   "execution_count": 18,
   "metadata": {},
   "outputs": [
    {
     "name": "stdout",
     "output_type": "stream",
     "text": [
      "[0.59090909 0.59090909 0.5        0.63636364 0.36363636 0.54545455\n",
      " 0.63636364 0.72727273 0.63636364 0.59090909]\n",
      "0.5818181818181819\n"
     ]
    }
   ],
   "source": [
    "from sklearn.neighbors import KNeighborsClassifier\n",
    "knn = KNeighborsClassifier(n_neighbors=5) \n",
    "knn.fit(X_train,y_train)\n",
    "scores = cross_val_score(knn,X,y,cv=10,scoring='accuracy')\n",
    "print(scores)\n",
    "print(scores.mean())"
   ]
  },
  {
   "cell_type": "code",
   "execution_count": 19,
   "metadata": {},
   "outputs": [],
   "source": [
    "k_range = range(1,55)\n",
    "k_scores = []\n",
    "for k_number in k_range:\n",
    "    knn = KNeighborsClassifier(n_neighbors=k_number)\n",
    "    scores = cross_val_score(knn,X,y,cv=5,scoring='accuracy')\n",
    "    k_scores.append(scores.mean())"
   ]
  },
  {
   "cell_type": "code",
   "execution_count": null,
   "metadata": {},
   "outputs": [],
   "source": [
    "plt.plot(k_range,k_scores)\n",
    "plt.xlabel('Value of K for KNN')\n",
    "plt.ylabel('Cross-Validated Accuracy')\n",
    "plt.show()"
   ]
  },
  {
   "cell_type": "code",
   "execution_count": null,
   "metadata": {},
   "outputs": [],
   "source": [
    "xgbc = XGBClassifier()"
   ]
  },
  {
   "cell_type": "code",
   "execution_count": null,
   "metadata": {},
   "outputs": [],
   "source": [
    "from sklearn.linear_model import LogisticRegression\n",
    "\n",
    "pl_log_reg_pca = Pipeline(steps=[('scaler',StandardScaler()), ('pca', PCA(n_components = 5)), ('log_reg', LogisticRegression(multi_class='multinomial', solver='saga', max_iter=200))])\n",
    "scores = cross_val_score(pl_log_reg_pca, test3, label_df, cv=10,scoring='accuracy')\n",
    "print('Accuracy for Logistic Regression with 5 Principal Components: ', scores.mean())"
   ]
  },
  {
   "cell_type": "code",
   "execution_count": null,
   "metadata": {},
   "outputs": [],
   "source": [
    "test3=test3.fillna(0)"
   ]
  },
  {
   "cell_type": "code",
   "execution_count": null,
   "metadata": {},
   "outputs": [],
   "source": [
    "import xgboost as xgb\n",
    "pl_xgb = Pipeline(steps= [('xgboost', xgb.XGBClassifier(objective='multi:softmax'))]) \n",
    "scores = cross_val_score(pl_xgb, test3, label_df, cv=10) \n",
    "print('Accuracy for XGBoost Classifier : ', scores.mean())"
   ]
  },
  {
   "cell_type": "code",
   "execution_count": null,
   "metadata": {},
   "outputs": [],
   "source": [
    "X = test3[['Age', 'RCC_APACHEII', '氣切', 'Difference APACHEII 6', 'Difference APACHEII 8', 'Difference APACHEII 9', '呼吸器天數', 'RCC天數', '插管-氣切',]]"
   ]
  },
  {
   "cell_type": "code",
   "execution_count": null,
   "metadata": {},
   "outputs": [],
   "source": [
    "y = test3['呼吸器成功脫離']"
   ]
  },
  {
   "cell_type": "code",
   "execution_count": null,
   "metadata": {},
   "outputs": [],
   "source": [
    "test3 = test3.drop(labels=['呼吸器成功脫離'],axis='columns')"
   ]
  },
  {
   "cell_type": "code",
   "execution_count": null,
   "metadata": {},
   "outputs": [],
   "source": [
    "X = test3"
   ]
  },
  {
   "cell_type": "code",
   "execution_count": null,
   "metadata": {},
   "outputs": [],
   "source": [
    "y = test3['呼吸器成功脫離']"
   ]
  },
  {
   "cell_type": "code",
   "execution_count": null,
   "metadata": {},
   "outputs": [],
   "source": [
    "X_train, X_test, y_train, y_test = train_test_split(X, y, test_size=0.25, random_state=33)\n",
    "X_train"
   ]
  },
  {
   "cell_type": "code",
   "execution_count": 13,
   "metadata": {},
   "outputs": [],
   "source": [
    "xgbc = XGBClassifier()"
   ]
  },
  {
   "cell_type": "code",
   "execution_count": 14,
   "metadata": {},
   "outputs": [
    {
     "name": "stdout",
     "output_type": "stream",
     "text": [
      "The accuracy of eXtreme Gradient Boosting Classifier on testing set: 0.6515151515151515\n"
     ]
    }
   ],
   "source": [
    "xgbc.fit(X_train, y_train)\n",
    "print('The accuracy of eXtreme Gradient Boosting Classifier on testing set:', xgbc.score(X_test, y_test))"
   ]
  },
  {
   "cell_type": "code",
   "execution_count": null,
   "metadata": {},
   "outputs": [],
   "source": [
    "from xgboost import plot_importance\n",
    "plot_importance(xgbc)\n",
    "plt.show()"
   ]
  },
  {
   "cell_type": "code",
   "execution_count": null,
   "metadata": {},
   "outputs": [],
   "source": [
    "print('The accuracy of eXtreme Gradient Boosting Classifier on testing set:', xgbc.score(X_test, y_test))"
   ]
  },
  {
   "cell_type": "code",
   "execution_count": null,
   "metadata": {},
   "outputs": [],
   "source": [
    "X_train, X_test, y_train, y_test = train_test_split(X, y, test_size=0.25, random_state=33)"
   ]
  },
  {
   "cell_type": "code",
   "execution_count": null,
   "metadata": {},
   "outputs": [],
   "source": [
    "X_train"
   ]
  },
  {
   "cell_type": "code",
   "execution_count": null,
   "metadata": {},
   "outputs": [],
   "source": [
    "xgbc.fit(X_train, y_train)"
   ]
  },
  {
   "cell_type": "code",
   "execution_count": null,
   "metadata": {},
   "outputs": [],
   "source": [
    "pd.set_option(\"display.max_rows\", 1000)"
   ]
  },
  {
   "cell_type": "code",
   "execution_count": null,
   "metadata": {},
   "outputs": [],
   "source": [
    "X_train"
   ]
  },
  {
   "cell_type": "code",
   "execution_count": null,
   "metadata": {},
   "outputs": [],
   "source": [
    "test"
   ]
  },
  {
   "cell_type": "code",
   "execution_count": null,
   "metadata": {},
   "outputs": [],
   "source": [
    "test.drop(0)"
   ]
  },
  {
   "cell_type": "code",
   "execution_count": null,
   "metadata": {},
   "outputs": [],
   "source": [
    "X_train"
   ]
  },
  {
   "cell_type": "code",
   "execution_count": null,
   "metadata": {},
   "outputs": [],
   "source": [
    "test"
   ]
  },
  {
   "cell_type": "code",
   "execution_count": null,
   "metadata": {},
   "outputs": [],
   "source": [
    "test.drop(0)"
   ]
  },
  {
   "cell_type": "code",
   "execution_count": null,
   "metadata": {},
   "outputs": [],
   "source": [
    "test"
   ]
  },
  {
   "cell_type": "code",
   "execution_count": null,
   "metadata": {},
   "outputs": [],
   "source": [
    "test = test.drop(0)"
   ]
  },
  {
   "cell_type": "code",
   "execution_count": null,
   "metadata": {},
   "outputs": [],
   "source": [
    "test"
   ]
  },
  {
   "cell_type": "code",
   "execution_count": null,
   "metadata": {},
   "outputs": [],
   "source": [
    "test"
   ]
  },
  {
   "cell_type": "code",
   "execution_count": null,
   "metadata": {},
   "outputs": [],
   "source": [
    "X_train"
   ]
  },
  {
   "cell_type": "code",
   "execution_count": null,
   "metadata": {},
   "outputs": [],
   "source": [
    "X = test[['基本資料', 'Unnamed: 7', 'Unnamed: 9']]\n",
    "y = test['Unnamed: 19']"
   ]
  },
  {
   "cell_type": "code",
   "execution_count": null,
   "metadata": {},
   "outputs": [],
   "source": [
    "X_train, X_test, y_train, y_test = train_test_split(X, y, test_size=0.25, random_state=33)"
   ]
  },
  {
   "cell_type": "code",
   "execution_count": null,
   "metadata": {},
   "outputs": [],
   "source": [
    "X_train"
   ]
  },
  {
   "cell_type": "code",
   "execution_count": null,
   "metadata": {},
   "outputs": [],
   "source": [
    "xgbc.fit(X_train, y_train)"
   ]
  },
  {
   "cell_type": "code",
   "execution_count": null,
   "metadata": {},
   "outputs": [],
   "source": [
    "X = test[['Unnamed: 7', 'Unnamed: 9']]\n",
    "y = test['Unnamed: 19']"
   ]
  },
  {
   "cell_type": "code",
   "execution_count": null,
   "metadata": {},
   "outputs": [],
   "source": [
    "X_train, X_test, y_train, y_test = train_test_split(X, y, test_size=0.25, random_state=33)"
   ]
  },
  {
   "cell_type": "code",
   "execution_count": null,
   "metadata": {},
   "outputs": [],
   "source": [
    "X_train"
   ]
  },
  {
   "cell_type": "code",
   "execution_count": null,
   "metadata": {},
   "outputs": [],
   "source": [
    "xgbc = XGBClassifier()"
   ]
  },
  {
   "cell_type": "code",
   "execution_count": null,
   "metadata": {},
   "outputs": [],
   "source": [
    "Unnamed: 7 = int()"
   ]
  },
  {
   "cell_type": "code",
   "execution_count": null,
   "metadata": {},
   "outputs": [],
   "source": [
    "xgbc.fit(X_train, y_train)"
   ]
  },
  {
   "cell_type": "code",
   "execution_count": null,
   "metadata": {},
   "outputs": [],
   "source": [
    "X = test[['Unnamed: 7', 'Unnamed: 9']]\n",
    "y = test['Unnamed: 19']"
   ]
  },
  {
   "cell_type": "code",
   "execution_count": null,
   "metadata": {},
   "outputs": [],
   "source": [
    "X_train"
   ]
  },
  {
   "cell_type": "code",
   "execution_count": null,
   "metadata": {},
   "outputs": [],
   "source": [
    "xgbc = XGBClassifier()"
   ]
  },
  {
   "cell_type": "code",
   "execution_count": null,
   "metadata": {},
   "outputs": [],
   "source": [
    "test"
   ]
  },
  {
   "cell_type": "code",
   "execution_count": null,
   "metadata": {},
   "outputs": [],
   "source": []
  }
 ],
 "metadata": {
  "kernelspec": {
   "display_name": "Python 3",
   "language": "python",
   "name": "python3"
  },
  "language_info": {
   "codemirror_mode": {
    "name": "ipython",
    "version": 3
   },
   "file_extension": ".py",
   "mimetype": "text/x-python",
   "name": "python",
   "nbconvert_exporter": "python",
   "pygments_lexer": "ipython3",
   "version": "3.7.6"
  }
 },
 "nbformat": 4,
 "nbformat_minor": 4
}
