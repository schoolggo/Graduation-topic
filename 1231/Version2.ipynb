{
 "cells": [
  {
   "cell_type": "code",
   "execution_count": 1,
   "metadata": {},
   "outputs": [
    {
     "name": "stderr",
     "output_type": "stream",
     "text": [
      "Using TensorFlow backend.\n"
     ]
    }
   ],
   "source": [
    "import pandas as pd\n",
    "import numpy as np\n",
    "pd.options.mode.chained_assignment = None\n",
    "from xgboost import XGBClassifier\n",
    "from sklearn.ensemble import RandomForestClassifier\n",
    "from sklearn.model_selection import train_test_split\n",
    "from sklearn.model_selection import KFold\n",
    "from sklearn.decomposition import PCA\n",
    "import re\n",
    "from imblearn.over_sampling import SMOTE"
   ]
  },
  {
   "cell_type": "code",
   "execution_count": 2,
   "metadata": {},
   "outputs": [],
   "source": [
    "regex = re.compile(r\"\\[|\\]|<\", re.IGNORECASE)\n",
    "RCC = pd.read_csv('MergeData/all_sheets_merge1.csv')\n",
    "pca = PCA(n_components=20)\n",
    "sm = SMOTE(random_state = 12)\n",
    "RCC['性別'] = RCC['性別'].map({'F':0,'M':1})\n",
    "y = RCC['呼吸器成功脫離']\n",
    "RCC = RCC.drop(['呼吸器成功脫離'], axis=1)"
   ]
  },
  {
   "cell_type": "code",
   "execution_count": 3,
   "metadata": {},
   "outputs": [],
   "source": [
    "RCC.columns = [regex.sub(\"_\", col) if any(x in str(col) for x in set(('[', ']', '<'))) else col for col in RCC.columns.values]\n",
    "RCC = RCC.fillna(0)"
   ]
  },
  {
   "cell_type": "code",
   "execution_count": 4,
   "metadata": {},
   "outputs": [],
   "source": [
    "reduced_data_pca = pca.fit_transform(RCC)\n",
    "xgbc = XGBClassifier()\n",
    "#np.any(np.isnan(RCC))\n",
    "X_train, X_test, y_train, y_test = train_test_split(reduced_data_pca, y, test_size=0.25, random_state=33)"
   ]
  },
  {
   "cell_type": "code",
   "execution_count": 5,
   "metadata": {},
   "outputs": [],
   "source": [
    "x_train_res,y_train_res = sm.fit_sample(X_train,y_train)"
   ]
  },
  {
   "cell_type": "code",
   "execution_count": 6,
   "metadata": {},
   "outputs": [],
   "source": [
    "#rfc = RandomForestClassifier()\n",
    "#rfc.fit(X_train,y_train)\n",
    "#print('The accuracy of Random Forest Classifier on testing set:', rfc.score(X_test, y_test))"
   ]
  },
  {
   "cell_type": "code",
   "execution_count": 7,
   "metadata": {},
   "outputs": [
    {
     "name": "stdout",
     "output_type": "stream",
     "text": [
      "The accuracy of eXtreme Gradient Boosting Classifier on testing set: 0.6363636363636364\n"
     ]
    }
   ],
   "source": [
    "xgbc.fit(x_train_res, y_train_res)\n",
    "print('The accuracy of eXtreme Gradient Boosting Classifier on testing set:', xgbc.score(X_test, y_test))"
   ]
  },
  {
   "cell_type": "code",
   "execution_count": 8,
   "metadata": {},
   "outputs": [],
   "source": [
    "kf = KFold(n_splits=10)\n",
    "kf_scores = []\n",
    "for train_index, test_index in kf.split(RCC):\n",
    "    X_train, X_test = RCC.iloc[train_index], RCC.iloc[test_index]\n",
    "    y_train, y_test = y.iloc[train_index], y.iloc[test_index]\n",
    "    x_train_res,y_train_res = sm.fit_sample(X_train,y_train)\n",
    "    xgbc.fit(x_train_res, y_train_res)\n",
    "    kf_scores.append(xgbc.score(X_test, y_test))"
   ]
  },
  {
   "cell_type": "code",
   "execution_count": 9,
   "metadata": {},
   "outputs": [
    {
     "name": "stdout",
     "output_type": "stream",
     "text": [
      "[0.6363636363636364, 0.7727272727272727, 0.6363636363636364, 0.7727272727272727, 0.8181818181818182, 0.7727272727272727, 0.9090909090909091, 0.8181818181818182, 0.7272727272727273, 0.8636363636363636]\n",
      "0.7727272727272727\n",
      "0.08381404052084443\n"
     ]
    }
   ],
   "source": [
    "print(kf_scores)\n",
    "print(np.mean(kf_scores))\n",
    "print(np.std(kf_scores))"
   ]
  },
  {
   "cell_type": "code",
   "execution_count": 10,
   "metadata": {},
   "outputs": [],
   "source": [
    "import seaborn as sns; sns.set()\n",
    "import keras\n",
    "from keras.datasets import mnist\n",
    "from keras.models import Sequential, Model\n",
    "from keras.layers import Dense\n",
    "from keras.optimizers import Adam\n",
    "import pylab as plt"
   ]
  },
  {
   "cell_type": "code",
   "execution_count": 11,
   "metadata": {},
   "outputs": [
    {
     "data": {
      "text/plain": [
       "(220, 2363)"
      ]
     },
     "execution_count": 11,
     "metadata": {},
     "output_type": "execute_result"
    }
   ],
   "source": [
    "RCC.shape"
   ]
  },
  {
   "cell_type": "code",
   "execution_count": 15,
   "metadata": {},
   "outputs": [
    {
     "name": "stdout",
     "output_type": "stream",
     "text": [
      "Train on 165 samples, validate on 165 samples\n",
      "Epoch 1/5\n",
      "165/165 [==============================] - 0s 2ms/step - loss: 2164997.9152 - val_loss: 2164833.9023\n",
      "Epoch 2/5\n",
      "165/165 [==============================] - 0s 612us/step - loss: 2164826.5909 - val_loss: 2164795.0894\n",
      "Epoch 3/5\n",
      "165/165 [==============================] - 0s 648us/step - loss: 2164792.5758 - val_loss: 2164782.8955\n",
      "Epoch 4/5\n",
      "165/165 [==============================] - 0s 733us/step - loss: 2164781.6909 - val_loss: 2164748.2318\n",
      "Epoch 5/5\n",
      "165/165 [==============================] - 0s 751us/step - loss: 2164746.6288 - val_loss: 2164737.3674\n"
     ]
    }
   ],
   "source": [
    "x_train, x_test, y_train, y_test = train_test_split(RCC, y, test_size=0.25, random_state=33)\n",
    "m = Sequential()\n",
    "m.add(Dense(512,  activation='elu', input_shape=(2363,)))\n",
    "m.add(Dense(128,  activation='elu'))\n",
    "m.add(Dense(2,    activation='linear', name=\"bottleneck\"))\n",
    "m.add(Dense(128,  activation='elu'))\n",
    "m.add(Dense(512,  activation='elu'))\n",
    "m.add(Dense(2363,  activation='sigmoid'))\n",
    "m.compile(loss='mean_squared_error', optimizer = Adam())\n",
    "\n",
    "history = m.fit(x_train, x_train, batch_size=128, epochs=5, verbose=1,validation_data=(x_train, x_train))\n",
    "encoder = Model(m.input, m.get_layer('bottleneck').output)\n",
    "Zenc = encoder.predict(x_train)  # bottleneck representation\n",
    "Renc = m.predict(x_train)        # recons"
   ]
  },
  {
   "cell_type": "code",
   "execution_count": 26,
   "metadata": {
    "scrolled": true
   },
   "outputs": [
    {
     "name": "stdout",
     "output_type": "stream",
     "text": [
      "165/165 [==============================] - 0s 151us/step\n"
     ]
    },
    {
     "data": {
      "text/plain": [
       "<keras.callbacks.callbacks.History at 0x1f75f5f8ba8>"
      ]
     },
     "execution_count": 26,
     "metadata": {},
     "output_type": "execute_result"
    }
   ],
   "source": [
    "m.evaluate(x_train,x_train,batch_size=128, verbose=1, sample_weight=None)\n",
    "history"
   ]
  },
  {
   "cell_type": "code",
   "execution_count": 17,
   "metadata": {
    "scrolled": true
   },
   "outputs": [
    {
     "data": {
      "image/png": "[encoded data removed]",
      "text/plain": [
       "<Figure size 432x288 with 1 Axes>"
      ]
     },
     "metadata": {
      "needs_background": "light"
     },
     "output_type": "display_data"
    }
   ],
   "source": [
    "plt.subplot(122)\n",
    "plt.title('Autoencoder')\n",
    "plt.scatter(Zenc[:5000,0], Zenc[:5000,1], c=y_train[:5000], s=8, cmap='tab10')\n",
    "plt.gca().get_xaxis().set_ticklabels([])\n",
    "plt.gca().get_yaxis().set_ticklabels([])\n",
    "plt.tight_layout()"
   ]
  },
  {
   "cell_type": "code",
   "execution_count": 23,
   "metadata": {},
   "outputs": [],
   "source": [
    "predictions_NN_prob = m.predict(x_test)"
   ]
  },
  {
   "cell_type": "code",
   "execution_count": 24,
   "metadata": {},
   "outputs": [],
   "source": [
    "from sklearn.metrics import confusion_matrix,accuracy_score, roc_curve, auc"
   ]
  },
  {
   "cell_type": "code",
   "execution_count": 25,
   "metadata": {},
   "outputs": [
    {
     "name": "stdout",
     "output_type": "stream",
     "text": [
      "Overall accuracy of Neural Network model: 0.6545454545454545\n"
     ]
    }
   ],
   "source": [
    "predictions_NN_prob = predictions_NN_prob[:,0]\n",
    "predictions_NN_01 = np.where(predictions_NN_prob > 0.5, 1, 0) #Turn probability to 0-1 binary output\n",
    "\n",
    "#Print accuracy\n",
    "acc_NN = accuracy_score(y_test, predictions_NN_01)\n",
    "print('Overall accuracy of Neural Network model:', acc_NN)"
   ]
  },
  {
   "cell_type": "code",
   "execution_count": null,
   "metadata": {},
   "outputs": [],
   "source": []
  },
  {
   "cell_type": "code",
   "execution_count": null,
   "metadata": {},
   "outputs": [],
   "source": []
  }
 ],
 "metadata": {
  "kernelspec": {
   "display_name": "Python 3",
   "language": "python",
   "name": "python3"
  },
  "language_info": {
   "codemirror_mode": {
    "name": "ipython",
    "version": 3
   },
   "file_extension": ".py",
   "mimetype": "text/x-python",
   "name": "python",
   "nbconvert_exporter": "python",
   "pygments_lexer": "ipython3",
   "version": "3.7.3"
  }
 },
 "nbformat": 4,
 "nbformat_minor": 2
}
