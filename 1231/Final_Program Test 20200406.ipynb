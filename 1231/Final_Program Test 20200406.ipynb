{
 "cells": [
  {
   "cell_type": "code",
   "execution_count": 64,
   "metadata": {},
   "outputs": [],
   "source": [
    "import pandas as pd\n",
    "pd.options.mode.chained_assignment = None"
   ]
  },
  {
   "cell_type": "code",
   "execution_count": 65,
   "metadata": {},
   "outputs": [],
   "source": [
    "RCC = pd.read_csv('test.csv')"
   ]
  },
  {
   "cell_type": "code",
   "execution_count": 66,
   "metadata": {},
   "outputs": [
    {
     "data": {
      "text/plain": [
       "Unnamed: 0     object\n",
       "基本資料           object\n",
       "Unnamed: 2     object\n",
       "Unnamed: 3     object\n",
       "Unnamed: 4     object\n",
       "Unnamed: 5     object\n",
       "Unnamed: 6     object\n",
       "Unnamed: 7     object\n",
       "Unnamed: 8     object\n",
       "Unnamed: 9     object\n",
       "結果面項           object\n",
       "Unnamed: 11    object\n",
       "Unnamed: 12    object\n",
       "Unnamed: 13    object\n",
       "Unnamed: 14    object\n",
       "Unnamed: 15    object\n",
       "Unnamed: 16    object\n",
       "Unnamed: 17    object\n",
       "Unnamed: 18    object\n",
       "Unnamed: 19    object\n",
       "Unnamed: 20    object\n",
       "Unnamed: 21    object\n",
       "Unnamed: 22    object\n",
       "Unnamed: 23    object\n",
       "Unnamed: 24    object\n",
       "Unnamed: 25    object\n",
       "其它項目           object\n",
       "Unnamed: 27    object\n",
       "Unnamed: 28    object\n",
       "Unnamed: 29    object\n",
       "Unnamed: 30    object\n",
       "共病             object\n",
       "Unnamed: 32    object\n",
       "Unnamed: 33    object\n",
       "Unnamed: 34    object\n",
       "Unnamed: 35    object\n",
       "Unnamed: 36    object\n",
       "Unnamed: 37    object\n",
       "Unnamed: 38    object\n",
       "Unnamed: 39    object\n",
       "Unnamed: 40    object\n",
       "Unnamed: 41    object\n",
       "Unnamed: 42    object\n",
       "Unnamed: 43    object\n",
       "Unnamed: 44    object\n",
       "Unnamed: 45    object\n",
       "Unnamed: 46    object\n",
       "Unnamed: 47    object\n",
       "dtype: object"
      ]
     },
     "execution_count": 66,
     "metadata": {},
     "output_type": "execute_result"
    }
   ],
   "source": [
    "RCC.dtypes"
   ]
  },
  {
   "cell_type": "code",
   "execution_count": null,
   "metadata": {},
   "outputs": [],
   "source": []
  },
  {
   "cell_type": "code",
   "execution_count": null,
   "metadata": {},
   "outputs": [],
   "source": []
  },
  {
   "cell_type": "code",
   "execution_count": null,
   "metadata": {},
   "outputs": [],
   "source": []
  }
 ],
 "metadata": {
  "kernelspec": {
   "display_name": "Python 3",
   "language": "python",
   "name": "python3"
  },
  "language_info": {
   "codemirror_mode": {
    "name": "ipython",
    "version": 3
   },
   "file_extension": ".py",
   "mimetype": "text/x-python",
   "name": "python",
   "nbconvert_exporter": "python",
   "pygments_lexer": "ipython3",
   "version": "3.7.3"
  }
 },
 "nbformat": 4,
 "nbformat_minor": 2
}
