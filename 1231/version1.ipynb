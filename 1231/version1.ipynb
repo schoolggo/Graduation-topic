{
 "cells": [
  {
   "cell_type": "code",
   "execution_count": 2,
   "metadata": {},
   "outputs": [],
   "source": [
    "import pandas as pd\n",
    "import numpy as np\n",
    "pd.options.mode.chained_assignment = None\n",
    "from xgboost import XGBClassifier\n",
    "from sklearn.ensemble import RandomForestClassifier\n",
    "from sklearn.model_selection import train_test_split\n",
    "from sklearn.model_selection import KFold\n",
    "from sklearn.decomposition import PCA\n",
    "import re\n",
    "from imblearn.over_sampling import SMOTE"
   ]
  },
  {
   "cell_type": "code",
   "execution_count": 3,
   "metadata": {},
   "outputs": [],
   "source": [
    "regex = re.compile(r\"\\[|\\]|<\", re.IGNORECASE)\n",
    "RCC = pd.read_csv('MergeData/all_sheets_merge1.csv')\n",
    "pca = PCA(n_components=20)\n",
    "sm = SMOTE(random_state = 12)\n",
    "RCC['性別'] = RCC['性別'].map({'F':0,'M':1})\n",
    "y = RCC['呼吸器成功脫離']\n",
    "RCC = RCC.drop(['呼吸器成功脫離'], axis=1)"
   ]
  },
  {
   "cell_type": "code",
   "execution_count": 4,
   "metadata": {},
   "outputs": [],
   "source": [
    "RCC.columns = [regex.sub(\"_\", col) if any(x in str(col) for x in set(('[', ']', '<'))) else col for col in RCC.columns.values]\n",
    "RCC = RCC.fillna(0)"
   ]
  },
  {
   "cell_type": "code",
   "execution_count": 5,
   "metadata": {},
   "outputs": [],
   "source": [
    "reduced_data_pca = pca.fit_transform(RCC)\n",
    "xgbc = XGBClassifier()\n",
    "#np.any(np.isnan(RCC))\n",
    "X_train, X_test, y_train, y_test = train_test_split(reduced_data_pca, y, test_size=0.25, random_state=33)"
   ]
  },
  {
   "cell_type": "code",
   "execution_count": 6,
   "metadata": {},
   "outputs": [],
   "source": [
    "x_train_res,y_train_res = sm.fit_sample(X_train,y_train)"
   ]
  },
  {
   "cell_type": "code",
   "execution_count": 7,
   "metadata": {},
   "outputs": [],
   "source": [
    "#rfc = RandomForestClassifier()\n",
    "#rfc.fit(X_train,y_train)\n",
    "#print('The accuracy of Random Forest Classifier on testing set:', rfc.score(X_test, y_test))"
   ]
  },
  {
   "cell_type": "code",
   "execution_count": 8,
   "metadata": {},
   "outputs": [
    {
     "name": "stdout",
     "output_type": "stream",
     "text": [
      "The accuracy of eXtreme Gradient Boosting Classifier on testing set: 0.6363636363636364\n"
     ]
    }
   ],
   "source": [
    "xgbc.fit(x_train_res, y_train_res)\n",
    "print('The accuracy of eXtreme Gradient Boosting Classifier on testing set:', xgbc.score(X_test, y_test))"
   ]
  },
  {
   "cell_type": "code",
   "execution_count": 9,
   "metadata": {},
   "outputs": [],
   "source": [
    "kf = KFold(n_splits=10)\n",
    "kf_scores = []\n",
    "for train_index, test_index in kf.split(RCC):\n",
    "    X_train, X_test = RCC.iloc[train_index], RCC.iloc[test_index]\n",
    "    y_train, y_test = y.iloc[train_index], y.iloc[test_index]\n",
    "    x_train_res,y_train_res = sm.fit_sample(X_train,y_train)\n",
    "    xgbc.fit(x_train_res, y_train_res)\n",
    "    kf_scores.append(xgbc.score(X_test, y_test))"
   ]
  },
  {
   "cell_type": "code",
   "execution_count": 10,
   "metadata": {},
   "outputs": [
    {
     "name": "stdout",
     "output_type": "stream",
     "text": [
      "[0.6363636363636364, 0.7727272727272727, 0.6363636363636364, 0.7727272727272727, 0.8181818181818182, 0.7727272727272727, 0.9090909090909091, 0.8181818181818182, 0.7272727272727273, 0.8636363636363636]\n",
      "0.7727272727272727\n",
      "0.08381404052084443\n"
     ]
    }
   ],
   "source": [
    "print(kf_scores)\n",
    "print(np.mean(kf_scores))\n",
    "print(np.std(kf_scores))"
   ]
  },
  {
   "cell_type": "code",
   "execution_count": null,
   "metadata": {},
   "outputs": [],
   "source": []
  },
  {
   "cell_type": "code",
   "execution_count": null,
   "metadata": {},
   "outputs": [],
   "source": []
  },
  {
   "cell_type": "code",
   "execution_count": null,
   "metadata": {},
   "outputs": [],
   "source": []
  }
 ],
 "metadata": {
  "kernelspec": {
   "display_name": "Python 3",
   "language": "python",
   "name": "python3"
  },
  "language_info": {
   "codemirror_mode": {
    "name": "ipython",
    "version": 3
   },
   "file_extension": ".py",
   "mimetype": "text/x-python",
   "name": "python",
   "nbconvert_exporter": "python",
   "pygments_lexer": "ipython3",
   "version": "3.7.3"
  }
 },
 "nbformat": 4,
 "nbformat_minor": 2
}
